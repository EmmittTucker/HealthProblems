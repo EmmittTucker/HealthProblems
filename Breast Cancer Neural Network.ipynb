{
 "cells": [
  {
   "cell_type": "markdown",
   "id": "d1fc935d",
   "metadata": {},
   "source": [
    "# Breast Cancer Diagnostic Neural Network Practice "
   ]
  },
  {
   "cell_type": "markdown",
   "id": "335690a7",
   "metadata": {},
   "source": [
    "## Importing the Required Packages"
   ]
  },
  {
   "cell_type": "code",
   "execution_count": null,
   "id": "e43942ae",
   "metadata": {},
   "outputs": [],
   "source": [
    "import pandas as pd  # contains functions for working with datasets\n",
    "from sklearn.model_selection import train_test_split  # allows for the splitting of the dataset into training and testing sets\n",
    "from sklearn.preprocessing import StandardScaler, LabelEncoder  # contains functions for preprocessing the dataset, such as normalization and encoding categorical variables\n",
    "import tensorflow as tf  # provides a comprehensive library for building and training neural networks and other machine learning models\n",
    "from tensorflow.keras.models import Sequential  # a Keras API for creating neural network models layer by layer\n",
    "from tensorflow.keras.layers import Dense  # provides the Dense layer, which is a fully connected neural network layer\n",
    "from tensorflow.keras.optimizers import Adam  # includes the Adam optimizer, a popular optimization algorithm for training neural networks"
   ]
  },
  {
   "cell_type": "markdown",
   "id": "1edab2b1",
   "metadata": {},
   "source": [
    "## Exploring the Dataset"
   ]
  },
  {
   "cell_type": "markdown",
   "id": "80c3db3d",
   "metadata": {},
   "source": [
    "Exploring the dataset is critical to understanding the dataset being worked with. It is important to know the dimensions of the dataset, as well if there are missing or duplicate values. "
   ]
  },
  {
   "cell_type": "markdown",
   "id": "c22930f9",
   "metadata": {},
   "source": [
    "### Loading the Dataset "
   ]
  },
  {
   "cell_type": "code",
   "execution_count": 6,
   "id": "d1f8607b",
   "metadata": {},
   "outputs": [
    {
     "data": {
      "text/html": [
       "<div>\n",
       "<style scoped>\n",
       "    .dataframe tbody tr th:only-of-type {\n",
       "        vertical-align: middle;\n",
       "    }\n",
       "\n",
       "    .dataframe tbody tr th {\n",
       "        vertical-align: top;\n",
       "    }\n",
       "\n",
       "    .dataframe thead th {\n",
       "        text-align: right;\n",
       "    }\n",
       "</style>\n",
       "<table border=\"1\" class=\"dataframe\">\n",
       "  <thead>\n",
       "    <tr style=\"text-align: right;\">\n",
       "      <th></th>\n",
       "      <th>Unnamed: 0</th>\n",
       "      <th>x.radius_mean</th>\n",
       "      <th>x.texture_mean</th>\n",
       "      <th>x.perimeter_mean</th>\n",
       "      <th>x.area_mean</th>\n",
       "      <th>x.smoothness_mean</th>\n",
       "      <th>x.compactness_mean</th>\n",
       "      <th>x.concavity_mean</th>\n",
       "      <th>x.concave_pts_mean</th>\n",
       "      <th>x.symmetry_mean</th>\n",
       "      <th>...</th>\n",
       "      <th>x.texture_worst</th>\n",
       "      <th>x.perimeter_worst</th>\n",
       "      <th>x.area_worst</th>\n",
       "      <th>x.smoothness_worst</th>\n",
       "      <th>x.compactness_worst</th>\n",
       "      <th>x.concavity_worst</th>\n",
       "      <th>x.concave_pts_worst</th>\n",
       "      <th>x.symmetry_worst</th>\n",
       "      <th>x.fractal_dim_worst</th>\n",
       "      <th>y</th>\n",
       "    </tr>\n",
       "  </thead>\n",
       "  <tbody>\n",
       "    <tr>\n",
       "      <th>0</th>\n",
       "      <td>1</td>\n",
       "      <td>13.540</td>\n",
       "      <td>14.36</td>\n",
       "      <td>87.46</td>\n",
       "      <td>566.3</td>\n",
       "      <td>0.09779</td>\n",
       "      <td>0.08129</td>\n",
       "      <td>0.06664</td>\n",
       "      <td>0.047810</td>\n",
       "      <td>0.1885</td>\n",
       "      <td>...</td>\n",
       "      <td>19.26</td>\n",
       "      <td>99.70</td>\n",
       "      <td>711.2</td>\n",
       "      <td>0.14400</td>\n",
       "      <td>0.17730</td>\n",
       "      <td>0.23900</td>\n",
       "      <td>0.12880</td>\n",
       "      <td>0.2977</td>\n",
       "      <td>0.07259</td>\n",
       "      <td>B</td>\n",
       "    </tr>\n",
       "    <tr>\n",
       "      <th>1</th>\n",
       "      <td>2</td>\n",
       "      <td>13.080</td>\n",
       "      <td>15.71</td>\n",
       "      <td>85.63</td>\n",
       "      <td>520.0</td>\n",
       "      <td>0.10750</td>\n",
       "      <td>0.12700</td>\n",
       "      <td>0.04568</td>\n",
       "      <td>0.031100</td>\n",
       "      <td>0.1967</td>\n",
       "      <td>...</td>\n",
       "      <td>20.49</td>\n",
       "      <td>96.09</td>\n",
       "      <td>630.5</td>\n",
       "      <td>0.13120</td>\n",
       "      <td>0.27760</td>\n",
       "      <td>0.18900</td>\n",
       "      <td>0.07283</td>\n",
       "      <td>0.3184</td>\n",
       "      <td>0.08183</td>\n",
       "      <td>B</td>\n",
       "    </tr>\n",
       "    <tr>\n",
       "      <th>2</th>\n",
       "      <td>3</td>\n",
       "      <td>9.504</td>\n",
       "      <td>12.44</td>\n",
       "      <td>60.34</td>\n",
       "      <td>273.9</td>\n",
       "      <td>0.10240</td>\n",
       "      <td>0.06492</td>\n",
       "      <td>0.02956</td>\n",
       "      <td>0.020760</td>\n",
       "      <td>0.1815</td>\n",
       "      <td>...</td>\n",
       "      <td>15.66</td>\n",
       "      <td>65.13</td>\n",
       "      <td>314.9</td>\n",
       "      <td>0.13240</td>\n",
       "      <td>0.11480</td>\n",
       "      <td>0.08867</td>\n",
       "      <td>0.06227</td>\n",
       "      <td>0.2450</td>\n",
       "      <td>0.07773</td>\n",
       "      <td>B</td>\n",
       "    </tr>\n",
       "    <tr>\n",
       "      <th>3</th>\n",
       "      <td>4</td>\n",
       "      <td>13.030</td>\n",
       "      <td>18.42</td>\n",
       "      <td>82.61</td>\n",
       "      <td>523.8</td>\n",
       "      <td>0.08983</td>\n",
       "      <td>0.03766</td>\n",
       "      <td>0.02562</td>\n",
       "      <td>0.029230</td>\n",
       "      <td>0.1467</td>\n",
       "      <td>...</td>\n",
       "      <td>22.81</td>\n",
       "      <td>84.46</td>\n",
       "      <td>545.9</td>\n",
       "      <td>0.09701</td>\n",
       "      <td>0.04619</td>\n",
       "      <td>0.04833</td>\n",
       "      <td>0.05013</td>\n",
       "      <td>0.1987</td>\n",
       "      <td>0.06169</td>\n",
       "      <td>B</td>\n",
       "    </tr>\n",
       "    <tr>\n",
       "      <th>4</th>\n",
       "      <td>5</td>\n",
       "      <td>8.196</td>\n",
       "      <td>16.84</td>\n",
       "      <td>51.71</td>\n",
       "      <td>201.9</td>\n",
       "      <td>0.08600</td>\n",
       "      <td>0.05943</td>\n",
       "      <td>0.01588</td>\n",
       "      <td>0.005917</td>\n",
       "      <td>0.1769</td>\n",
       "      <td>...</td>\n",
       "      <td>21.96</td>\n",
       "      <td>57.26</td>\n",
       "      <td>242.2</td>\n",
       "      <td>0.12970</td>\n",
       "      <td>0.13570</td>\n",
       "      <td>0.06880</td>\n",
       "      <td>0.02564</td>\n",
       "      <td>0.3105</td>\n",
       "      <td>0.07409</td>\n",
       "      <td>B</td>\n",
       "    </tr>\n",
       "  </tbody>\n",
       "</table>\n",
       "<p>5 rows × 32 columns</p>\n",
       "</div>"
      ],
      "text/plain": [
       "   Unnamed: 0  x.radius_mean  x.texture_mean  x.perimeter_mean  x.area_mean  \\\n",
       "0           1         13.540           14.36             87.46        566.3   \n",
       "1           2         13.080           15.71             85.63        520.0   \n",
       "2           3          9.504           12.44             60.34        273.9   \n",
       "3           4         13.030           18.42             82.61        523.8   \n",
       "4           5          8.196           16.84             51.71        201.9   \n",
       "\n",
       "   x.smoothness_mean  x.compactness_mean  x.concavity_mean  \\\n",
       "0            0.09779             0.08129           0.06664   \n",
       "1            0.10750             0.12700           0.04568   \n",
       "2            0.10240             0.06492           0.02956   \n",
       "3            0.08983             0.03766           0.02562   \n",
       "4            0.08600             0.05943           0.01588   \n",
       "\n",
       "   x.concave_pts_mean  x.symmetry_mean  ...  x.texture_worst  \\\n",
       "0            0.047810           0.1885  ...            19.26   \n",
       "1            0.031100           0.1967  ...            20.49   \n",
       "2            0.020760           0.1815  ...            15.66   \n",
       "3            0.029230           0.1467  ...            22.81   \n",
       "4            0.005917           0.1769  ...            21.96   \n",
       "\n",
       "   x.perimeter_worst  x.area_worst  x.smoothness_worst  x.compactness_worst  \\\n",
       "0              99.70         711.2             0.14400              0.17730   \n",
       "1              96.09         630.5             0.13120              0.27760   \n",
       "2              65.13         314.9             0.13240              0.11480   \n",
       "3              84.46         545.9             0.09701              0.04619   \n",
       "4              57.26         242.2             0.12970              0.13570   \n",
       "\n",
       "   x.concavity_worst  x.concave_pts_worst  x.symmetry_worst  \\\n",
       "0            0.23900              0.12880            0.2977   \n",
       "1            0.18900              0.07283            0.3184   \n",
       "2            0.08867              0.06227            0.2450   \n",
       "3            0.04833              0.05013            0.1987   \n",
       "4            0.06880              0.02564            0.3105   \n",
       "\n",
       "   x.fractal_dim_worst  y  \n",
       "0              0.07259  B  \n",
       "1              0.08183  B  \n",
       "2              0.07773  B  \n",
       "3              0.06169  B  \n",
       "4              0.07409  B  \n",
       "\n",
       "[5 rows x 32 columns]"
      ]
     },
     "execution_count": 6,
     "metadata": {},
     "output_type": "execute_result"
    }
   ],
   "source": [
    "# Load the data\n",
    "file_path = 'brca.csv'\n",
    "data = pd.read_csv(file_path)\n",
    "data.head()"
   ]
  },
  {
   "cell_type": "markdown",
   "id": "b37edb0b",
   "metadata": {},
   "source": [
    "### Checking for Missing Values "
   ]
  },
  {
   "cell_type": "markdown",
   "id": "f8a8e6e2",
   "metadata": {},
   "source": [
    "This is a function that I have written previously that should work on any dataset. This function goes through each column of the dataset and determines if there were missing values found. "
   ]
  },
  {
   "cell_type": "code",
   "execution_count": 7,
   "id": "8eb63234",
   "metadata": {},
   "outputs": [
    {
     "name": "stdout",
     "output_type": "stream",
     "text": [
      "Unnamed: 0             0\n",
      "x.radius_mean          0\n",
      "x.texture_mean         0\n",
      "x.perimeter_mean       0\n",
      "x.area_mean            0\n",
      "x.smoothness_mean      0\n",
      "x.compactness_mean     0\n",
      "x.concavity_mean       0\n",
      "x.concave_pts_mean     0\n",
      "x.symmetry_mean        0\n",
      "x.fractal_dim_mean     0\n",
      "x.radius_se            0\n",
      "x.texture_se           0\n",
      "x.perimeter_se         0\n",
      "x.area_se              0\n",
      "x.smoothness_se        0\n",
      "x.compactness_se       0\n",
      "x.concavity_se         0\n",
      "x.concave_pts_se       0\n",
      "x.symmetry_se          0\n",
      "x.fractal_dim_se       0\n",
      "x.radius_worst         0\n",
      "x.texture_worst        0\n",
      "x.perimeter_worst      0\n",
      "x.area_worst           0\n",
      "x.smoothness_worst     0\n",
      "x.compactness_worst    0\n",
      "x.concavity_worst      0\n",
      "x.concave_pts_worst    0\n",
      "x.symmetry_worst       0\n",
      "x.fractal_dim_worst    0\n",
      "y                      0\n",
      "dtype: int64\n"
     ]
    }
   ],
   "source": [
    "def check_missing_values(data):\n",
    "    missing_values = data.isnull().sum()\n",
    "    return missing_values\n",
    "# Check for missing values\n",
    "missing_values_summary = check_missing_values(data)\n",
    "print(missing_values_summary)"
   ]
  },
  {
   "cell_type": "markdown",
   "id": "030bdcbb",
   "metadata": {},
   "source": [
    "### Checking for Duplicate Values "
   ]
  },
  {
   "cell_type": "markdown",
   "id": "a97af436",
   "metadata": {},
   "source": [
    "This is another function that I have written previously. This function goes through each row of the dataset to check if there are any duplicates. "
   ]
  },
  {
   "cell_type": "code",
   "execution_count": null,
   "id": "3695d388",
   "metadata": {},
   "outputs": [],
   "source": [
    "def check_duplicate_values(data):\n",
    "    duplicate_count = data.duplicated().sum()\n",
    "    return duplicate_count\n",
    "# Check for duplicate values\n",
    "duplicate_values_summary = check_duplicate_values(data)\n",
    "print(f\"Number of duplicate rows: {duplicate_values_summary}\")"
   ]
  },
  {
   "cell_type": "markdown",
   "id": "46a28f31",
   "metadata": {},
   "source": [
    "## Preparing the Dataset "
   ]
  },
  {
   "cell_type": "markdown",
   "id": "1c9c421f",
   "metadata": {},
   "source": [
    "Now that the data has been explored, it is time to prepare it for the model. <br>\n",
    "First, we can drop the column that is unnmaed and just contains the patient numbers. <br>\n",
    "Then, we encode the target variable (turn it into either a 0 or 1) to make the data easier for the model to read. <br>\n",
    "Then, we define what are the features and what is the target variable. <br>\n",
    "Finally, setting a random seed ensures that the random processes involved in the training of models produce the same results each time you run the code. This includes processes like the initialization of neural network weights, shuffling of data, and splitting of datasets. The number 42 is arbitrary. "
   ]
  },
  {
   "cell_type": "code",
   "execution_count": 9,
   "id": "639268ef",
   "metadata": {},
   "outputs": [],
   "source": [
    "# Drop the unnamed column that just contains numbers\n",
    "data = data.drop(columns=['Unnamed: 0'])\n",
    "\n",
    "# Encode the target variable\n",
    "# This makes the target variable easier to read for the model\n",
    "label_encoder = LabelEncoder()\n",
    "data['y'] = label_encoder.fit_transform(data['y'])\n",
    "\n",
    "# Separate features and target\n",
    "X = data.drop(columns=['y'])\n",
    "y = data['y']\n",
    "\n",
    "# Split the data into training and testing sets\n",
    "X_train, X_test, y_train, y_test = train_test_split(X, y, test_size=0.2, random_state=42)\n",
    "\n",
    "# Normalize the feature columns\n",
    "scaler = StandardScaler()\n",
    "X_train = scaler.fit_transform(X_train)\n",
    "X_test = scaler.transform(X_test)\n",
    "\n",
    "# Set random seed for reproducibility\n",
    "tf.random.set_seed(42)"
   ]
  },
  {
   "cell_type": "markdown",
   "id": "34029c64",
   "metadata": {},
   "source": [
    "##  Defining the Neural Network Model"
   ]
  },
  {
   "cell_type": "markdown",
   "id": "513e3d2d",
   "metadata": {},
   "source": [
    "This code snippet defines a neural network model using the Sequential API from Keras. The Sequential model is a linear stack of layers, where each layer has exactly one input tensor and one output tensor. <br>"
   ]
  },
  {
   "cell_type": "code",
   "execution_count": 10,
   "id": "df1d7a03",
   "metadata": {},
   "outputs": [],
   "source": [
    "# Define the neural network model\n",
    "model = Sequential([\n",
    "    Dense(64, input_shape=(X_train.shape[1],), activation='relu'),\n",
    "    Dense(32, activation='relu'),\n",
    "    Dense(16, activation='relu'),\n",
    "    Dense(1, activation='sigmoid')  # Output layer for binary classification\\\n",
    "])"
   ]
  },
  {
   "cell_type": "code",
   "execution_count": 11,
   "id": "158d07b1",
   "metadata": {},
   "outputs": [],
   "source": [
    "# Compile the model\n",
    "model.compile(optimizer=Adam(learning_rate=0.001), \n",
    "              loss='binary_crossentropy', \n",
    "              metrics=['accuracy'])"
   ]
  },
  {
   "cell_type": "code",
   "execution_count": 12,
   "id": "0d7cc01b",
   "metadata": {},
   "outputs": [
    {
     "name": "stdout",
     "output_type": "stream",
     "text": [
      "Epoch 1/50\n",
      "12/12 [==============================] - 0s 10ms/step - loss: 0.6714 - accuracy: 0.5907 - val_loss: 0.5775 - val_accuracy: 0.7692\n",
      "Epoch 2/50\n",
      "12/12 [==============================] - 0s 2ms/step - loss: 0.4939 - accuracy: 0.8901 - val_loss: 0.4081 - val_accuracy: 0.9121\n",
      "Epoch 3/50\n",
      "12/12 [==============================] - 0s 2ms/step - loss: 0.3259 - accuracy: 0.9286 - val_loss: 0.2719 - val_accuracy: 0.9231\n",
      "Epoch 4/50\n",
      "12/12 [==============================] - 0s 2ms/step - loss: 0.2124 - accuracy: 0.9423 - val_loss: 0.1829 - val_accuracy: 0.9451\n",
      "Epoch 5/50\n",
      "12/12 [==============================] - 0s 2ms/step - loss: 0.1464 - accuracy: 0.9533 - val_loss: 0.1308 - val_accuracy: 0.9670\n",
      "Epoch 6/50\n",
      "12/12 [==============================] - 0s 2ms/step - loss: 0.1082 - accuracy: 0.9725 - val_loss: 0.0990 - val_accuracy: 0.9670\n",
      "Epoch 7/50\n",
      "12/12 [==============================] - 0s 2ms/step - loss: 0.0850 - accuracy: 0.9808 - val_loss: 0.0831 - val_accuracy: 0.9670\n",
      "Epoch 8/50\n",
      "12/12 [==============================] - 0s 2ms/step - loss: 0.0718 - accuracy: 0.9918 - val_loss: 0.0755 - val_accuracy: 0.9780\n",
      "Epoch 9/50\n",
      "12/12 [==============================] - 0s 2ms/step - loss: 0.0615 - accuracy: 0.9918 - val_loss: 0.0739 - val_accuracy: 0.9780\n",
      "Epoch 10/50\n",
      "12/12 [==============================] - 0s 2ms/step - loss: 0.0546 - accuracy: 0.9918 - val_loss: 0.0739 - val_accuracy: 0.9780\n",
      "Epoch 11/50\n",
      "12/12 [==============================] - 0s 2ms/step - loss: 0.0492 - accuracy: 0.9918 - val_loss: 0.0715 - val_accuracy: 0.9780\n",
      "Epoch 12/50\n",
      "12/12 [==============================] - 0s 2ms/step - loss: 0.0448 - accuracy: 0.9918 - val_loss: 0.0728 - val_accuracy: 0.9780\n",
      "Epoch 13/50\n",
      "12/12 [==============================] - 0s 2ms/step - loss: 0.0411 - accuracy: 0.9918 - val_loss: 0.0765 - val_accuracy: 0.9780\n",
      "Epoch 14/50\n",
      "12/12 [==============================] - 0s 2ms/step - loss: 0.0376 - accuracy: 0.9918 - val_loss: 0.0770 - val_accuracy: 0.9780\n",
      "Epoch 15/50\n",
      "12/12 [==============================] - 0s 2ms/step - loss: 0.0352 - accuracy: 0.9918 - val_loss: 0.0803 - val_accuracy: 0.9780\n",
      "Epoch 16/50\n",
      "12/12 [==============================] - 0s 2ms/step - loss: 0.0322 - accuracy: 0.9918 - val_loss: 0.0799 - val_accuracy: 0.9780\n",
      "Epoch 17/50\n",
      "12/12 [==============================] - 0s 3ms/step - loss: 0.0298 - accuracy: 0.9945 - val_loss: 0.0844 - val_accuracy: 0.9780\n",
      "Epoch 18/50\n",
      "12/12 [==============================] - 0s 2ms/step - loss: 0.0277 - accuracy: 0.9945 - val_loss: 0.0909 - val_accuracy: 0.9780\n",
      "Epoch 19/50\n",
      "12/12 [==============================] - 0s 2ms/step - loss: 0.0254 - accuracy: 0.9945 - val_loss: 0.0909 - val_accuracy: 0.9780\n",
      "Epoch 20/50\n",
      "12/12 [==============================] - 0s 2ms/step - loss: 0.0239 - accuracy: 0.9945 - val_loss: 0.1005 - val_accuracy: 0.9670\n",
      "Epoch 21/50\n",
      "12/12 [==============================] - 0s 2ms/step - loss: 0.0225 - accuracy: 0.9945 - val_loss: 0.1078 - val_accuracy: 0.9670\n",
      "Epoch 22/50\n",
      "12/12 [==============================] - 0s 3ms/step - loss: 0.0209 - accuracy: 0.9945 - val_loss: 0.1092 - val_accuracy: 0.9670\n",
      "Epoch 23/50\n",
      "12/12 [==============================] - 0s 2ms/step - loss: 0.0199 - accuracy: 0.9945 - val_loss: 0.1090 - val_accuracy: 0.9670\n",
      "Epoch 24/50\n",
      "12/12 [==============================] - 0s 2ms/step - loss: 0.0186 - accuracy: 0.9945 - val_loss: 0.1225 - val_accuracy: 0.9670\n",
      "Epoch 25/50\n",
      "12/12 [==============================] - 0s 2ms/step - loss: 0.0174 - accuracy: 0.9945 - val_loss: 0.1245 - val_accuracy: 0.9670\n",
      "Epoch 26/50\n",
      "12/12 [==============================] - 0s 2ms/step - loss: 0.0166 - accuracy: 0.9945 - val_loss: 0.1342 - val_accuracy: 0.9670\n",
      "Epoch 27/50\n",
      "12/12 [==============================] - 0s 2ms/step - loss: 0.0154 - accuracy: 0.9945 - val_loss: 0.1343 - val_accuracy: 0.9670\n",
      "Epoch 28/50\n",
      "12/12 [==============================] - 0s 2ms/step - loss: 0.0146 - accuracy: 0.9945 - val_loss: 0.1467 - val_accuracy: 0.9670\n",
      "Epoch 29/50\n",
      "12/12 [==============================] - 0s 2ms/step - loss: 0.0134 - accuracy: 0.9945 - val_loss: 0.1519 - val_accuracy: 0.9560\n",
      "Epoch 30/50\n",
      "12/12 [==============================] - 0s 2ms/step - loss: 0.0127 - accuracy: 0.9945 - val_loss: 0.1520 - val_accuracy: 0.9560\n",
      "Epoch 31/50\n",
      "12/12 [==============================] - 0s 2ms/step - loss: 0.0118 - accuracy: 0.9945 - val_loss: 0.1587 - val_accuracy: 0.9560\n",
      "Epoch 32/50\n",
      "12/12 [==============================] - 0s 2ms/step - loss: 0.0111 - accuracy: 0.9945 - val_loss: 0.1653 - val_accuracy: 0.9560\n",
      "Epoch 33/50\n",
      "12/12 [==============================] - 0s 2ms/step - loss: 0.0103 - accuracy: 0.9945 - val_loss: 0.1664 - val_accuracy: 0.9560\n",
      "Epoch 34/50\n",
      "12/12 [==============================] - 0s 2ms/step - loss: 0.0096 - accuracy: 0.9973 - val_loss: 0.1800 - val_accuracy: 0.9560\n",
      "Epoch 35/50\n",
      "12/12 [==============================] - 0s 2ms/step - loss: 0.0085 - accuracy: 0.9973 - val_loss: 0.1819 - val_accuracy: 0.9560\n",
      "Epoch 36/50\n",
      "12/12 [==============================] - 0s 2ms/step - loss: 0.0076 - accuracy: 0.9973 - val_loss: 0.1876 - val_accuracy: 0.9560\n",
      "Epoch 37/50\n",
      "12/12 [==============================] - 0s 2ms/step - loss: 0.0067 - accuracy: 0.9973 - val_loss: 0.1964 - val_accuracy: 0.9560\n",
      "Epoch 38/50\n",
      "12/12 [==============================] - 0s 2ms/step - loss: 0.0061 - accuracy: 0.9973 - val_loss: 0.2001 - val_accuracy: 0.9560\n",
      "Epoch 39/50\n",
      "12/12 [==============================] - 0s 2ms/step - loss: 0.0053 - accuracy: 1.0000 - val_loss: 0.2028 - val_accuracy: 0.9560\n",
      "Epoch 40/50\n",
      "12/12 [==============================] - 0s 2ms/step - loss: 0.0047 - accuracy: 1.0000 - val_loss: 0.2172 - val_accuracy: 0.9560\n",
      "Epoch 41/50\n",
      "12/12 [==============================] - 0s 2ms/step - loss: 0.0043 - accuracy: 1.0000 - val_loss: 0.2252 - val_accuracy: 0.9560\n",
      "Epoch 42/50\n",
      "12/12 [==============================] - 0s 2ms/step - loss: 0.0040 - accuracy: 1.0000 - val_loss: 0.2218 - val_accuracy: 0.9560\n",
      "Epoch 43/50\n",
      "12/12 [==============================] - 0s 2ms/step - loss: 0.0036 - accuracy: 1.0000 - val_loss: 0.2340 - val_accuracy: 0.9560\n",
      "Epoch 44/50\n",
      "12/12 [==============================] - 0s 2ms/step - loss: 0.0032 - accuracy: 1.0000 - val_loss: 0.2413 - val_accuracy: 0.9560\n",
      "Epoch 45/50\n",
      "12/12 [==============================] - 0s 2ms/step - loss: 0.0029 - accuracy: 1.0000 - val_loss: 0.2455 - val_accuracy: 0.9560\n",
      "Epoch 46/50\n",
      "12/12 [==============================] - 0s 2ms/step - loss: 0.0028 - accuracy: 1.0000 - val_loss: 0.2427 - val_accuracy: 0.9560\n",
      "Epoch 47/50\n",
      "12/12 [==============================] - 0s 2ms/step - loss: 0.0024 - accuracy: 1.0000 - val_loss: 0.2540 - val_accuracy: 0.9560\n",
      "Epoch 48/50\n",
      "12/12 [==============================] - 0s 2ms/step - loss: 0.0024 - accuracy: 1.0000 - val_loss: 0.2590 - val_accuracy: 0.9560\n",
      "Epoch 49/50\n",
      "12/12 [==============================] - 0s 2ms/step - loss: 0.0021 - accuracy: 1.0000 - val_loss: 0.2568 - val_accuracy: 0.9560\n",
      "Epoch 50/50\n",
      "12/12 [==============================] - 0s 2ms/step - loss: 0.0020 - accuracy: 1.0000 - val_loss: 0.2593 - val_accuracy: 0.9560\n"
     ]
    }
   ],
   "source": [
    "# Train the model\n",
    "history = model.fit(X_train, y_train, epochs=50, batch_size=32, validation_split=0.2, verbose=1)"
   ]
  },
  {
   "cell_type": "code",
   "execution_count": 13,
   "id": "1d4f1de1",
   "metadata": {},
   "outputs": [
    {
     "name": "stdout",
     "output_type": "stream",
     "text": [
      "Test Loss: 0.14455313980579376\n",
      "Test Accuracy: 0.9736841917037964\n"
     ]
    }
   ],
   "source": [
    "# Evaluate the model on the test set\n",
    "test_loss, test_accuracy = model.evaluate(X_test, y_test, verbose=0)\n",
    "\n",
    "print(f\"Test Loss: {test_loss}\")\n",
    "print(f\"Test Accuracy: {test_accuracy}\")"
   ]
  },
  {
   "cell_type": "code",
   "execution_count": 15,
   "id": "15bc78c9",
   "metadata": {},
   "outputs": [],
   "source": [
    "model.save('breastcancernn.h5')"
   ]
  }
 ],
 "metadata": {
  "kernelspec": {
   "display_name": "Python 3",
   "language": "python",
   "name": "python3"
  },
  "language_info": {
   "codemirror_mode": {
    "name": "ipython",
    "version": 3
   },
   "file_extension": ".py",
   "mimetype": "text/x-python",
   "name": "python",
   "nbconvert_exporter": "python",
   "pygments_lexer": "ipython3",
   "version": "3.8.8"
  }
 },
 "nbformat": 4,
 "nbformat_minor": 5
}
